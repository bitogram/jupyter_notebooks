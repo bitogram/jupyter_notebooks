{
 "cells": [
  {
   "cell_type": "code",
   "execution_count": 1,
   "metadata": {},
   "outputs": [
    {
     "name": "stdout",
     "output_type": "stream",
     "text": [
      "hello\n"
     ]
    }
   ],
   "source": [
    "print('hello')"
   ]
  },
  {
   "cell_type": "markdown",
   "metadata": {},
   "source": [
    "** Hi **"
   ]
  },
  {
   "cell_type": "markdown",
   "metadata": {},
   "source": [
    "## My List\n",
    "\n",
    "1. one\n",
    "2. two\n",
    "3. three\n",
    "\n",
    "### Header 3\n",
    "\n",
    "> This is a blockquote.\n",
    "> \n",
    "> This is the second paragraph in the blockquote.\n",
    ">\n",
    "> ## This is an H2 in a blockquote\n",
    "\n",
    "![Image](https://blogs-images.forbes.com/nargessbanks/files/2017/12/McLaren-Senna-2.jpg)"
   ]
  }
 ],
 "metadata": {
  "kernelspec": {
   "display_name": "Python [Root]",
   "language": "python",
   "name": "Python [Root]"
  },
  "language_info": {
   "codemirror_mode": {
    "name": "ipython",
    "version": 3
   },
   "file_extension": ".py",
   "mimetype": "text/x-python",
   "name": "python",
   "nbconvert_exporter": "python",
   "pygments_lexer": "ipython3",
   "version": "3.5.3"
  }
 },
 "nbformat": 4,
 "nbformat_minor": 2
}
